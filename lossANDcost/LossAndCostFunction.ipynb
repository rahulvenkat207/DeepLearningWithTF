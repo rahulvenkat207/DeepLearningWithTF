{
  "nbformat": 4,
  "nbformat_minor": 0,
  "metadata": {
    "colab": {
      "provenance": [],
      "authorship_tag": "ABX9TyOOXDzvlsjevKlYy3/ah8vX",
      "include_colab_link": true
    },
    "kernelspec": {
      "name": "python3",
      "display_name": "Python 3"
    },
    "language_info": {
      "name": "python"
    }
  },
  "cells": [
    {
      "cell_type": "markdown",
      "metadata": {
        "id": "view-in-github",
        "colab_type": "text"
      },
      "source": [
        "<a href=\"https://colab.research.google.com/github/rahulvenkat207/DeepLearningWithTF/blob/main/lossANDcost/LossAndCostFunction.ipynb\" target=\"_parent\"><img src=\"https://colab.research.google.com/assets/colab-badge.svg\" alt=\"Open In Colab\"/></a>"
      ]
    },
    {
      "cell_type": "code",
      "execution_count": null,
      "metadata": {
        "id": "7gcuRiB3W3jp"
      },
      "outputs": [],
      "source": [
        "import numpy as np"
      ]
    },
    {
      "cell_type": "code",
      "source": [
        "y_predicted = np.array([1,1,0,0,1])\n",
        "y_true = np.array([0.30, 0.7,1,0,0.5])"
      ],
      "metadata": {
        "id": "o_n5_eYIf2E6"
      },
      "execution_count": null,
      "outputs": []
    },
    {
      "cell_type": "code",
      "source": [
        "def mean_absolute_error(y_true,y_predicted):\n",
        "  total_error = 0\n",
        "  for yt,yp in zip(y_true,y_predicted):\n",
        "      total_error += abs(yt-yp)\n",
        "  print(\"Total error: \",total_error)\n",
        "  mae = total_error/len(y_true)\n",
        "  print(\"Mean Absoulte Error\",mae)\n"
      ],
      "metadata": {
        "id": "wEN0yjs2gA16"
      },
      "execution_count": null,
      "outputs": []
    },
    {
      "cell_type": "code",
      "source": [
        "mean_absolute_error(y_true,y_predicted)"
      ],
      "metadata": {
        "colab": {
          "base_uri": "https://localhost:8080/"
        },
        "id": "0nH3sjoxhDtA",
        "outputId": "21f5f80b-f6aa-4c95-ee08-529e147d881f"
      },
      "execution_count": null,
      "outputs": [
        {
          "output_type": "stream",
          "name": "stdout",
          "text": [
            "Total error:  2.5\n",
            "Mean Absoulte Error 0.5\n"
          ]
        }
      ]
    },
    {
      "cell_type": "markdown",
      "source": [
        "using numpy\n"
      ],
      "metadata": {
        "id": "rExE7D99iK6a"
      }
    },
    {
      "cell_type": "code",
      "source": [
        "np.mean(np.abs(y_true - y_predicted))"
      ],
      "metadata": {
        "colab": {
          "base_uri": "https://localhost:8080/"
        },
        "id": "zajdER94hVT-",
        "outputId": "12900342-a4da-4b53-f788-3233595a7bff"
      },
      "execution_count": null,
      "outputs": [
        {
          "output_type": "execute_result",
          "data": {
            "text/plain": [
              "0.5"
            ]
          },
          "metadata": {},
          "execution_count": 15
        }
      ]
    },
    {
      "cell_type": "code",
      "source": [
        "def mean_squared_error(y_true,y_predicted):\n",
        "  total_error = 0\n",
        "  for yt,yp in zip(y_true,y_predicted):\n",
        "    total_error += (yt-yp)**2\n",
        "  print(\"Total Error\",total_error)\n",
        "  mse = total_error/len(y_true)\n",
        "  print(\"Mean Squared Error\",mse)\n"
      ],
      "metadata": {
        "id": "mw8diFx2iRKo"
      },
      "execution_count": null,
      "outputs": []
    },
    {
      "cell_type": "code",
      "source": [
        "mean_squared_error(y_true,y_predicted)"
      ],
      "metadata": {
        "colab": {
          "base_uri": "https://localhost:8080/"
        },
        "id": "xFTv1-jIkNHc",
        "outputId": "815b195a-a99c-4971-e21b-ee88de2dbf23"
      },
      "execution_count": null,
      "outputs": [
        {
          "output_type": "stream",
          "name": "stdout",
          "text": [
            "Total Error 1.83\n",
            "Mean Squared Error 0.366\n"
          ]
        }
      ]
    },
    {
      "cell_type": "code",
      "source": [
        "np.mean((y_true - y_predicted)**2)"
      ],
      "metadata": {
        "colab": {
          "base_uri": "https://localhost:8080/"
        },
        "id": "oMRieFQqkQoe",
        "outputId": "8c101103-9fd5-4af4-f17b-9f1c9535a401"
      },
      "execution_count": null,
      "outputs": [
        {
          "output_type": "execute_result",
          "data": {
            "text/plain": [
              "0.366"
            ]
          },
          "metadata": {},
          "execution_count": 17
        }
      ]
    },
    {
      "cell_type": "code",
      "source": [
        "epsilon = 1e-15"
      ],
      "metadata": {
        "colab": {
          "base_uri": "https://localhost:8080/"
        },
        "id": "y3LOacVNkjMn",
        "outputId": "5c63669d-6704-405d-e954-630407eea267"
      },
      "execution_count": null,
      "outputs": [
        {
          "output_type": "execute_result",
          "data": {
            "text/plain": [
              "1e-15"
            ]
          },
          "metadata": {},
          "execution_count": 19
        }
      ]
    },
    {
      "cell_type": "code",
      "source": [
        "import numpy as np\n",
        "\n",
        "def log_loss_function(y_true, y_predicted):\n",
        "    epsilon = 1e-15\n",
        "\n",
        "    y_predicted_new = np.maximum(epsilon, y_predicted)\n",
        "    y_predicted_new = np.minimum(1 - epsilon, y_predicted_new)\n",
        "\n",
        "    return -np.mean(y_true * np.log(y_predicted_new) + (1 - y_true) * np.log(1 - y_predicted_new))\n"
      ],
      "metadata": {
        "id": "Hse5Qjgmkmxa"
      },
      "execution_count": null,
      "outputs": []
    },
    {
      "cell_type": "code",
      "source": [
        "log_loss_function(y_true,y_predicted)"
      ],
      "metadata": {
        "colab": {
          "base_uri": "https://localhost:8080/"
        },
        "id": "d0lFrR4VnJzG",
        "outputId": "a3924ee6-57ab-45be-bc65-1db75315c79c"
      },
      "execution_count": null,
      "outputs": [
        {
          "output_type": "execute_result",
          "data": {
            "text/plain": [
              "17.2696280766844"
            ]
          },
          "metadata": {},
          "execution_count": 31
        }
      ]
    },
    {
      "cell_type": "code",
      "source": [],
      "metadata": {
        "id": "rSZg5nkhnO6U"
      },
      "execution_count": null,
      "outputs": []
    }
  ]
}